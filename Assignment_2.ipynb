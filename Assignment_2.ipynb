{
  "nbformat": 4,
  "nbformat_minor": 0,
  "metadata": {
    "colab": {
      "name": "Assignment 2.ipynb",
      "version": "0.3.2",
      "provenance": [],
      "include_colab_link": true
    },
    "kernelspec": {
      "display_name": "Python 3",
      "language": "python",
      "name": "python3"
    }
  },
  "cells": [
    {
      "cell_type": "markdown",
      "metadata": {
        "id": "view-in-github",
        "colab_type": "text"
      },
      "source": [
        "[![Open In Colab](https://colab.research.google.com/assets/colab-badge.svg)](https://colab.research.google.com/github/makennajohnstone/Lab6/blob/master/Assignment_2.ipynb)"
      ]
    },
    {
      "metadata": {
        "id": "jrGUQYTLzJiE",
        "colab_type": "text"
      },
      "cell_type": "markdown",
      "source": [
        "# Assignment 2\n",
        "\n",
        "## Printed copy due in class on October 15, 2018\n",
        "\n",
        "You may work in pairs on this assignment. You are not permitted to discuss this assignment with anyone other than your partner or the instructors.\n",
        "\n",
        "## Student 1: Likhita Narayana\n",
        "## Student 2: Anna Rulloda"
      ]
    },
    {
      "metadata": {
        "id": "6ohmF3mszJiG",
        "colab_type": "text"
      },
      "cell_type": "markdown",
      "source": [
        "## Question 1: Maximum Likelihood\n",
        "\n",
        "The Weibull distribution is widely used to model failure times. Its p.d.f. is \n",
        "\n",
        "$$ p(x) = \\frac{\\beta}{\\alpha} \\left( \\frac{x}{\\alpha} \\right)^{\\beta - 1} e^{-\\left(\\frac{x}{\\alpha}\\right)^\\beta}. $$\n",
        "\n",
        "The data in `/data400/test_coupons_failure.csv` contain the cycles to failure of aluminum test coupons subjected to repeated alternating stress of 15,000 psi at 20 cycles per second. In this question, you will use the Weibull distribution to model this data.\n",
        "\n",
        "For some parts, you will be able to calculate the maximum likelihood analytically (i.e., by taking the derivative and setting it equal to 0). You should show your work in this case. (I encourage you to typeset math equations using LaTeX. The p.d.f. above was typeset using LaTeX, for example.) For others, you will calculate the maximum likelihood numerically. You should show your code in this case."
      ]
    },
    {
      "metadata": {
        "id": "ysqyWkErzJiI",
        "colab_type": "code",
        "outputId": "edfb7ce1-2ebc-45b9-ce6a-1dd9917b547e",
        "colab": {
          "base_uri": "https://localhost:8080/",
          "height": 34
        }
      },
      "cell_type": "code",
      "source": [
        "import pandas as pd\n",
        "#cycles = pd.read_csv(\"/data400/test_coupons_failure.csv\")[\"cycles\"]\n",
        "cycles = [8078,1891,13912,3407,6168,15504,1893,12551,6861,1334,9438,6227,2562,2074,6770,7971,17081,9245,19041,21997]\n",
        "sumCycles = sum(cycles)\n",
        "avgCycles = sumCycles/len(cycles)\n",
        "print(avgCycles)"
      ],
      "execution_count": 0,
      "outputs": [
        {
          "output_type": "stream",
          "text": [
            "8700.25\n"
          ],
          "name": "stdout"
        }
      ]
    },
    {
      "metadata": {
        "id": "T0TI3tKDzJiL",
        "colab_type": "text"
      },
      "cell_type": "markdown",
      "source": [
        "### Part A. Unknown $\\alpha$\n",
        "\n",
        "Suppose you want to model the distribution by a Weibull where $\\beta=2.0$. Find the maximum likelihood estimate (MLE) of $\\alpha$."
      ]
    },
    {
      "metadata": {
        "id": "k-e73qW-zJiM",
        "colab_type": "code",
        "outputId": "b19a02b6-a719-4306-9e34-5369e5769ce0",
        "colab": {
          "base_uri": "https://localhost:8080/",
          "height": 187
        }
      },
      "cell_type": "code",
      "source": [
        "import numpy as np\n",
        "from scipy.optimize import minimize\n",
        "import matplotlib.pyplot as plt\n",
        "%matplotlib inline\n",
        "\n",
        "def likelihood_alpha(a, x):\n",
        "    return (2/a)*(x*1.0/a)**(2-1) * np.exp((x*1.0/a) ** 2)\n",
        "\n",
        "# Define the negative likelihood\n",
        "def neg_likelihood_alpha(a, x):\n",
        "    return -(2/a)*(x*1.0/a)**(2-1) * np.exp((x*1.0/a) ** 2) \n",
        "\n",
        "def neg_log_likelihood_alpha(a, x=8700.25):\n",
        "    #print(\"a = {} and x = {}\".format(a, x))\n",
        "    return -1 * (np.log(2) - np.log(a) + (2 - 1)*(np.log(x) - np.log(a)) - ((x/a)**2))\n",
        "  \n",
        "\n",
        "minimize(neg_log_likelihood_alpha, 1)"
      ],
      "execution_count": 0,
      "outputs": [
        {
          "output_type": "execute_result",
          "data": {
            "text/plain": [
              "      fun: 9.378057289080559\n",
              " hess_inv: array([[13768812.59312459]])\n",
              "      jac: array([-3.09944153e-06])\n",
              "  message: 'Optimization terminated successfully.'\n",
              "     nfev: 144\n",
              "      nit: 47\n",
              "     njev: 48\n",
              "   status: 0\n",
              "  success: True\n",
              "        x: array([8639.87708318])"
            ]
          },
          "metadata": {
            "tags": []
          },
          "execution_count": 2
        }
      ]
    },
    {
      "metadata": {
        "id": "X2bmZfQ4zJiP",
        "colab_type": "text"
      },
      "cell_type": "markdown",
      "source": [
        "### Part B. Unknown $\\beta$\n",
        "\n",
        "Suppose you want to model the distribution by a Weibull where $\\alpha=8000$. Find the MLE of $\\beta$."
      ]
    },
    {
      "metadata": {
        "id": "r-S125oQzJiP",
        "colab_type": "code",
        "outputId": "4007758f-0f62-49d8-c2f5-e3ec43a311b7",
        "colab": {
          "base_uri": "https://localhost:8080/",
          "height": 187
        }
      },
      "cell_type": "code",
      "source": [
        "def neg_log_likelihood_beta(b):\n",
        "    return -1 * (np.log(b) - np.log(8000) + (b - 1)*(np.log(8700.25) - np.log(8000)) - ((8700.25/8000)**b))\n",
        "      \n",
        "      \n",
        "minimize(neg_log_likelihood_beta, .1)"
      ],
      "execution_count": 0,
      "outputs": [
        {
          "output_type": "execute_result",
          "data": {
            "text/plain": [
              "      fun: 8.241704609433187\n",
              " hess_inv: array([[37.45622023]])\n",
              "      jac: array([-5.96046448e-07])\n",
              "  message: 'Optimization terminated successfully.'\n",
              "     nfev: 33\n",
              "      nit: 9\n",
              "     njev: 11\n",
              "   status: 0\n",
              "  success: True\n",
              "        x: array([9.61103269])"
            ]
          },
          "metadata": {
            "tags": []
          },
          "execution_count": 6
        }
      ]
    },
    {
      "metadata": {
        "id": "nkFcO7bWzJiS",
        "colab_type": "text"
      },
      "cell_type": "markdown",
      "source": [
        "### Part C. Unknown $\\alpha$ and $\\beta$\n",
        "\n",
        "Suppose you are unsure what either $\\alpha$ or $\\beta$ should be, so you would like to learn both parameters from data. Find the MLE of $(\\alpha, \\beta)$."
      ]
    },
    {
      "metadata": {
        "id": "0DkHOTKizJiT",
        "colab_type": "code",
        "outputId": "819aa678-a554-476b-cbe6-3e403510a359",
        "colab": {
          "base_uri": "https://localhost:8080/",
          "height": 391
        }
      },
      "cell_type": "code",
      "source": [
        "def neg_log_likelihood_alpha_beta(ab):\n",
        "    a,b = ab\n",
        "    #print(\"a = {}, b = {}\".format(a, b))\n",
        "    return -1 * (np.log(b) - np.log(a) + (b - 1)*(np.log(8700.25) - np.log(a)) - ((8700.25/a)**b))\n",
        "  \n",
        "  \n",
        "#Define the negative likelihood\n",
        "def neg_likelihood_alpha_beta(ab):\n",
        "  a,b = ab\n",
        "  #print(\"a = {}, b = {}\".format(a,b))\n",
        "  return -(b*1.0/a)*(8700.25/a)**(b-1) * np.exp((8700.25/a) ** b) \n",
        "      \n",
        "\n",
        "init_guess = [1,1]\n",
        "print(\"Unknown alpha and beta using negative log likelihood function\")\n",
        "minimize(neg_log_likelihood_alpha_beta, init_guess)"
      ],
      "execution_count": 0,
      "outputs": [
        {
          "output_type": "stream",
          "text": [
            "Unknown alpha and beta using negative log likelihood function\n"
          ],
          "name": "stdout"
        },
        {
          "output_type": "stream",
          "text": [
            "/usr/local/lib/python3.6/dist-packages/ipykernel_launcher.py:4: RuntimeWarning: invalid value encountered in log\n",
            "  after removing the cwd from sys.path.\n",
            "/usr/local/lib/python3.6/dist-packages/ipykernel_launcher.py:4: RuntimeWarning: overflow encountered in double_scalars\n",
            "  after removing the cwd from sys.path.\n",
            "/usr/local/lib/python3.6/dist-packages/ipykernel_launcher.py:4: RuntimeWarning: invalid value encountered in log\n",
            "  after removing the cwd from sys.path.\n",
            "/usr/local/lib/python3.6/dist-packages/ipykernel_launcher.py:4: RuntimeWarning: invalid value encountered in log\n",
            "  after removing the cwd from sys.path.\n",
            "/usr/local/lib/python3.6/dist-packages/numpy/core/_methods.py:26: RuntimeWarning: invalid value encountered in reduce\n",
            "  return umr_maximum(a, axis, None, out, keepdims)\n"
          ],
          "name": "stderr"
        },
        {
          "output_type": "execute_result",
          "data": {
            "text/plain": [
              "      fun: nan\n",
              " hess_inv: array([[1, 0],\n",
              "       [0, 1]])\n",
              "      jac: array([nan, nan])\n",
              "  message: 'Desired error not necessarily achieved due to precision loss.'\n",
              "     nfev: 448\n",
              "      nit: 1\n",
              "     njev: 112\n",
              "   status: 2\n",
              "  success: False\n",
              "        x: array([  114.32960707, -1027.01205137])"
            ]
          },
          "metadata": {
            "tags": []
          },
          "execution_count": 91
        }
      ]
    },
    {
      "metadata": {
        "id": "yywoeDjNSp7l",
        "colab_type": "code",
        "outputId": "5153a441-519d-4c68-a92a-5419d9661d23",
        "colab": {
          "base_uri": "https://localhost:8080/",
          "height": 493
        }
      },
      "cell_type": "code",
      "source": [
        "init_guess_2 = [.1,.1]\n",
        "print(\"Unknown alpha and beta using negative likelihood function\")\n",
        "minimize(neg_likelihood_alpha_beta, init_guess_2)"
      ],
      "execution_count": 0,
      "outputs": [
        {
          "output_type": "stream",
          "text": [
            "Unknown alpha and beta using negative likelihood function\n"
          ],
          "name": "stdout"
        },
        {
          "output_type": "stream",
          "text": [
            "/usr/local/lib/python3.6/dist-packages/ipykernel_launcher.py:11: RuntimeWarning: overflow encountered in exp\n",
            "  # This is added back by InteractiveShellApp.init_path()\n",
            "/usr/local/lib/python3.6/dist-packages/scipy/optimize/optimize.py:628: RuntimeWarning: invalid value encountered in double_scalars\n",
            "  grad[k] = (f(*((xk + d,) + args)) - f0) / d[k]\n",
            "/usr/local/lib/python3.6/dist-packages/ipykernel_launcher.py:11: RuntimeWarning: invalid value encountered in double_scalars\n",
            "  # This is added back by InteractiveShellApp.init_path()\n",
            "/usr/local/lib/python3.6/dist-packages/ipykernel_launcher.py:11: RuntimeWarning: overflow encountered in exp\n",
            "  # This is added back by InteractiveShellApp.init_path()\n",
            "/usr/local/lib/python3.6/dist-packages/scipy/optimize/optimize.py:628: RuntimeWarning: invalid value encountered in double_scalars\n",
            "  grad[k] = (f(*((xk + d,) + args)) - f0) / d[k]\n",
            "/usr/local/lib/python3.6/dist-packages/ipykernel_launcher.py:11: RuntimeWarning: invalid value encountered in double_scalars\n",
            "  # This is added back by InteractiveShellApp.init_path()\n",
            "/usr/local/lib/python3.6/dist-packages/ipykernel_launcher.py:11: RuntimeWarning: invalid value encountered in double_scalars\n",
            "  # This is added back by InteractiveShellApp.init_path()\n",
            "/usr/local/lib/python3.6/dist-packages/numpy/core/_methods.py:26: RuntimeWarning: invalid value encountered in reduce\n",
            "  return umr_maximum(a, axis, None, out, keepdims)\n"
          ],
          "name": "stderr"
        },
        {
          "output_type": "execute_result",
          "data": {
            "text/plain": [
              "      fun: nan\n",
              " hess_inv: array([[1, 0],\n",
              "       [0, 1]])\n",
              "      jac: array([nan, nan])\n",
              "  message: 'Desired error not necessarily achieved due to precision loss.'\n",
              "     nfev: 172\n",
              "      nit: 1\n",
              "     njev: 43\n",
              "   status: 2\n",
              "  success: False\n",
              "        x: array([-3.31850749, 47.28134193])"
            ]
          },
          "metadata": {
            "tags": []
          },
          "execution_count": 94
        }
      ]
    },
    {
      "metadata": {
        "id": "ZGiQLcagzJiV",
        "colab_type": "text"
      },
      "cell_type": "markdown",
      "source": [
        "### Part D. Plot your results\n",
        "\n",
        "Make a histogram of the coupon cycles data. You learned three different Weibull distributions in Parts A-C above. Show the p.d.f.s of these three distributions on top of the histograms. Which p.d.f. seems to fit the data the best?"
      ]
    },
    {
      "metadata": {
        "id": "esSn6yfFzJiV",
        "colab_type": "code",
        "colab": {}
      },
      "cell_type": "code",
      "source": [
        "def weibull(a, b, x):\n",
        "    return (b*1.0/a)*(x*1.0/a)**(b-1) * np.exp((x*1.0/a)**b)"
      ],
      "execution_count": 0,
      "outputs": []
    },
    {
      "metadata": {
        "id": "Mco-wcfnLIKQ",
        "colab_type": "code",
        "outputId": "5ab8a6bb-ec84-4272-9453-04209af24a5d",
        "colab": {
          "base_uri": "https://localhost:8080/",
          "height": 122
        }
      },
      "cell_type": "code",
      "source": [
        "unknown_alpha_histogram_cycles = []\n",
        "unknown_beta_histogram_cycles = []\n",
        "unknown_alpha_beta_histogram_cycles = []\n",
        "\n",
        "for i in cycles:\n",
        "  #print(\"i = {}\".format(i))\n",
        "  unknown_alpha_histogram_cycles.append(weibull(8639.87708318, 2.0, i))\n",
        "  unknown_beta_histogram_cycles.append(weibull(8000, 9.61103269, i))\n",
        "  unknown_alpha_beta_histogram_cycles.append(weibull(47.28134193,3.31850749, i))\n",
        "\n",
        "print(\"unknown_alpha_histogram_cycles = {}\".format(unknown_alpha_histogram_cycles))\n",
        "print(\"unknown_beta_histogram_cycles = {}\".format(unknown_beta_histogram_cycles))\n",
        "print(\"unknown_alpha_beta_histogram_cycles = {}\".format(unknown_alpha_beta_histogram_cycles))"
      ],
      "execution_count": 0,
      "outputs": [
        {
          "output_type": "stream",
          "text": [
            "unknown_alpha_histogram_cycles = [0.000518755858333301, 5.3150903952468276e-05, 0.004982303564395124, 0.00010663986785663247, 0.0002751048313744785, 0.010397766347830238, 5.321251313350473e-05, 0.002774464759475535, 0.0003453599794282105, 3.6603620673643214e-05, 0.000833935940752901, 0.0002804706404880341, 7.495179514043316e-05, 5.8863942457460044e-05, 0.0003351633827953264, 0.000500243159978609, 0.022802023291798024, 0.0007783612339424326, 0.06562281037868654, 0.38502861965617263]\n",
            "unknown_beta_histogram_cycles = [0.0039147882461654845, 4.850012766561699e-09, 5.2962249889294535e+87, 7.718542665302634e-07, 0.0001389210650950359, 3.041367312697741e+250, 4.89436194598249e-09, 4.940678488146441e+31, 0.0004022962282790148, 2.403607894622127e-10, 0.6680828882542612, 0.00015198046565726185, 6.628855419455278e-08, 1.0744697541561236e-08, 0.00034886733538653424, 0.0030584162856783707, inf, 0.23146845539184685, inf, inf]\n",
            "unknown_alpha_beta_histogram_cycles = [inf, inf, inf, inf, inf, inf, inf, inf, inf, inf, inf, inf, inf, inf, inf, inf, inf, inf, inf, inf]\n"
          ],
          "name": "stdout"
        },
        {
          "output_type": "stream",
          "text": [
            "/usr/local/lib/python3.6/dist-packages/ipykernel_launcher.py:2: RuntimeWarning: overflow encountered in exp\n",
            "  \n"
          ],
          "name": "stderr"
        }
      ]
    },
    {
      "metadata": {
        "id": "izDJKI0cOTS7",
        "colab_type": "code",
        "outputId": "f948b371-3724-4889-8dcc-79ed1216b320",
        "colab": {
          "base_uri": "https://localhost:8080/",
          "height": 350
        }
      },
      "cell_type": "code",
      "source": [
        "plt.hist(unknown_alpha_histogram_cycles)"
      ],
      "execution_count": 0,
      "outputs": [
        {
          "output_type": "execute_result",
          "data": {
            "text/plain": [
              "(array([18.,  1.,  0.,  0.,  0.,  0.,  0.,  0.,  0.,  1.]),\n",
              " array([3.66036207e-05, 3.85358052e-02, 7.70350068e-02, 1.15534208e-01,\n",
              "        1.54033410e-01, 1.92532612e-01, 2.31031813e-01, 2.69531015e-01,\n",
              "        3.08030216e-01, 3.46529418e-01, 3.85028620e-01]),\n",
              " <a list of 10 Patch objects>)"
            ]
          },
          "metadata": {
            "tags": []
          },
          "execution_count": 70
        },
        {
          "output_type": "display_data",
          "data": {
            "image/png": "[encoded data removed]",
            "text/plain": [
              "<matplotlib.figure.Figure at 0x7f93c3e4c080>"
            ]
          },
          "metadata": {
            "tags": []
          }
        }
      ]
    },
    {
      "metadata": {
        "id": "c2UQx2DUOZC_",
        "colab_type": "code",
        "outputId": "05585ce9-df4b-441c-97f2-ecd838bebce8",
        "colab": {
          "base_uri": "https://localhost:8080/",
          "height": 350
        }
      },
      "cell_type": "code",
      "source": [
        "import numpy as np\n",
        "unknown_beta_histogram_cycles = np.isfinite(unknown_beta_histogram_cycles)\n",
        "print(unknown_beta_histogram_cycles)\n",
        "plt.hist(unknown_beta_histogram_cycles)"
      ],
      "execution_count": 0,
      "outputs": [
        {
          "output_type": "stream",
          "text": [
            "[ True  True  True  True  True  True  True  True  True  True  True  True\n",
            "  True  True  True  True False  True False False]\n"
          ],
          "name": "stdout"
        },
        {
          "output_type": "execute_result",
          "data": {
            "text/plain": [
              "(array([ 3.,  0.,  0.,  0.,  0.,  0.,  0.,  0.,  0., 17.]),\n",
              " array([0. , 0.1, 0.2, 0.3, 0.4, 0.5, 0.6, 0.7, 0.8, 0.9, 1. ]),\n",
              " <a list of 10 Patch objects>)"
            ]
          },
          "metadata": {
            "tags": []
          },
          "execution_count": 72
        },
        {
          "output_type": "display_data",
          "data": {
            "image/png": "[encoded data removed]",
            "text/plain": [
              "<matplotlib.figure.Figure at 0x7f93c3e62470>"
            ]
          },
          "metadata": {
            "tags": []
          }
        }
      ]
    },
    {
      "metadata": {
        "id": "Lj662_E7Qfh0",
        "colab_type": "code",
        "colab": {}
      },
      "cell_type": "code",
      "source": [
        ""
      ],
      "execution_count": 0,
      "outputs": []
    },
    {
      "metadata": {
        "id": "YkImopb4zJiY",
        "colab_type": "text"
      },
      "cell_type": "markdown",
      "source": [
        "## Question 2: Simple Linear Regression with Intercept\n",
        "\n",
        "In this class, you will explore the simple linear regression model (with intercept). That is, we assume that the labels $Y_i$ are independently generated according to \n",
        "$$Y_i = \\beta_0 + \\beta_1 x_i + \\epsilon_i,$$\n",
        "\n",
        "where the feature $x_i$ is assumed to be fixed and $\\epsilon_i$ is $\\textrm{Normal}(0, \\sigma^2)$. \n",
        "\n",
        "In other words, we assume that the distribution of $Y_i$ is $\\text{Normal}(\\beta_0 + \\beta_1 x_i, \\sigma^2)$, and $Y_1, ..., Y_n$ are independent (but not identically distributed)."
      ]
    },
    {
      "metadata": {
        "id": "yWLbvdqSzJiZ",
        "colab_type": "text"
      },
      "cell_type": "markdown",
      "source": [
        "### Part A. Deriving the MLE from Scratch\n",
        "\n",
        "Use calculus to find $\\hat\\beta_0$, $\\hat\\beta_1$, and $\\hat\\sigma^2$ (the MLEs of $\\beta_0$, $\\beta_1$, and $\\sigma^2$) in terms of $(x_1, Y_1), ..., (x_n, Y_n)$."
      ]
    },
    {
      "metadata": {
        "id": "bt0FXZx-PYeb",
        "colab_type": "text"
      },
      "cell_type": "markdown",
      "source": [
        "$$ L(\\beta_0, \\beta_1, \\sigma^2) = \\prod_{i=1}^{n}\\frac{1}{{ \\sqrt {2\\pi \\sigma^2} }} e^-(yi-(\\beta_0 + \\beta_1x_i))^2 /{2\\sigma ^2 }$$\n",
        "\n",
        "\n",
        "\n",
        "\n",
        "\n",
        "\n"
      ]
    },
    {
      "metadata": {
        "id": "oEot0ntgTPID",
        "colab_type": "text"
      },
      "cell_type": "markdown",
      "source": [
        "$$ logL(\\beta_0, \\beta_1, \\sigma^2) = \\frac {-n}{2}log2\\pi - \\frac {n}{2}log2\\sigma^2 -  \\frac {1}{2\\sigma^2} \\sum_{i=1} (y_i-(\\beta_0 + \\beta_1x_i))^2$$\n",
        "\n",
        "\n",
        "\n"
      ]
    },
    {
      "metadata": {
        "id": "-kR45FUDXYS2",
        "colab_type": "text"
      },
      "cell_type": "markdown",
      "source": [
        " $$  \\frac{\\partial logL}{\\partial \\beta_0}= \\frac {1}{\\sigma^2} \\sum_{i=1} (y_i-(\\beta_0 + \\beta_1x_i) $$"
      ]
    },
    {
      "metadata": {
        "id": "qyOGXd42Zu5y",
        "colab_type": "text"
      },
      "cell_type": "markdown",
      "source": [
        " $$  \\frac{\\partial logL}{\\partial \\beta_1}= \\frac {1}{\\sigma^2} \\sum_{i=1} x_i(y_i- (\\beta_0 + \\beta_1x_i)) $$\n"
      ]
    },
    {
      "metadata": {
        "id": "yJG7tkUYa8Z5",
        "colab_type": "text"
      },
      "cell_type": "markdown",
      "source": [
        " $$  \\frac{\\partial logL}{\\partial \\sigma^2}= \\frac {1}{2(\\sigma^2)^2} \\sum_{i=1} (y_i- (\\beta_0 + \\beta_1x_i))^2 - \\frac{n}{2\\sigma^2} $$\n"
      ]
    },
    {
      "metadata": {
        "id": "3SuXgfu8yzH5",
        "colab_type": "text"
      },
      "cell_type": "markdown",
      "source": [
        "$$ \\beta0 = \\frac{\\sum_{i=1}y_{i} - \\beta1\\sum_{i=1}x_{i}}{n} = \\bar{y} - \\beta1\\bar{x}  $$ "
      ]
    },
    {
      "metadata": {
        "id": "iasNwkrO0KOH",
        "colab_type": "text"
      },
      "cell_type": "markdown",
      "source": [
        "$$ \\sum_{i = 1}x_{i}y_{i} - \\beta0\\sum_{i = 1}x_{i} - \\sum_{i=1} \\beta1xi^2 = 0 $$"
      ]
    },
    {
      "metadata": {
        "id": "s-S_6kSf200i",
        "colab_type": "text"
      },
      "cell_type": "markdown",
      "source": [
        "$$ \\sum_{i = 1}x_{i}y_{i} - (\\bar{y} - \\bar{\\beta1}\\bar{x})\\sum_{i = 1}x_{i} - \\sum_{i=1} \\beta1xi^2 = 0 $$"
      ]
    },
    {
      "metadata": {
        "id": "KI474QwIzJid",
        "colab_type": "text"
      },
      "cell_type": "markdown",
      "source": [
        "### Part B. Deriving the MLE from the Multiple Regression Formula\n",
        "\n",
        "In class, we showed that for multiple linear regression, the _vector_ $\\hat\\beta$ of estimated coefficients is given by the formula\n",
        "$$\\hat\\beta = (X^T X)^{-1} X^T {\\bf y},$$\n",
        "where $X$ is an $n \\times d$ matrix of features and ${\\bf y}$ is a length-$n$ vector of labels.\n",
        "\n",
        "By constructing a suitable matrix $X$ for simple linear regression, re-derive the simple linear regression estimates $\\hat\\beta_0$ and $\\hat\\beta_1$ using the multiple regression formula above."
      ]
    },
    {
      "metadata": {
        "id": "hnu2GLxBh2rT",
        "colab_type": "text"
      },
      "cell_type": "markdown",
      "source": [
        "$$ Y_i = \\beta_0 + \\beta_1X_i + \\epsilon_i$$ $\n",
        "where $ i = 1,..., n$$\n",
        "\n",
        "$$Y_1 = \\beta_0 + \\beta_1X_1 + \\epsilon_1 $$\n",
        "$$Y_2 = \\beta_0 + \\beta_1X_2 + \\epsilon_2 $$\n",
        "...\n",
        "$$Y_n = \\beta_0 + \\beta_1X_n + \\epsilon_n $$\n",
        "\n",
        "Y is a n by 1 matrix. X is a n by 2 matrix with the first column being all ones. B is a 2 by 1 matrix. E is a n by 1 matrix. \n",
        "\n",
        "\n",
        "$$ \\begin{bmatrix}\n",
        "    Y_{1}       \\\\\n",
        "    Y_{2}       \\\\\n",
        "    ... \\\\\n",
        "    Y_{n}       \n",
        "\\end{bmatrix}\n",
        "= Y (n x 1 matrix)$$\n",
        "\n",
        "\n",
        "$$ \\begin{bmatrix}\n",
        "    1 & X_{1}       \\\\\n",
        "    1 & X_{2}       \\\\\n",
        "    ... \\\\\n",
        "    1 & X_{n}       \n",
        "\\end{bmatrix}\n",
        "= X (n x 2 matrix)$$\n",
        "\n",
        "\n",
        "$$ \\begin{bmatrix}\n",
        "    \\beta_{0}       \\\\\n",
        "    \\beta_{1}       \n",
        "\\end{bmatrix}\n",
        "= \\beta (2 x 1 matrix)$$\n",
        "\n",
        "$$ \\begin{bmatrix}\n",
        "    \\epsilon_{1}       \\\\\n",
        "    \\epsilon_{2}       \\\\\n",
        "    ... \\\\\n",
        "    \\epsilon_{n}       \n",
        "\\end{bmatrix}\n",
        "= \\epsilon (n x 1 matrix)$$\n",
        "\n",
        "\n",
        "The simple linear regression formula can be expressed as below in matrix form:\n",
        "$$ Y = X\\beta + \\epsilon$$\n",
        "\n",
        "Both beta values can be found using this formula:\n",
        "\n",
        "$$ \\frac{1}{\\sigma^2}\\sum_{i=1}^n (y_i - x_i^T \\beta)x_{ij} = 0$$\n",
        "$$ \\frac{1}{\\sigma^2}\\sum_{i=1}^n (y_i - x_i^T \\beta)1 = 0$$\n",
        "$$ X^T(Y - X\\beta) = 0$$\n",
        "$$ X^T - X^TX\\beta = 0$$\n",
        "$$ X^T - X\\beta = X^TY$$\n",
        "$$\\beta = (X^TX)^-1 (X^TY)$$\n"
      ]
    },
    {
      "metadata": {
        "id": "tVqpjqw6zJih",
        "colab_type": "text"
      },
      "cell_type": "markdown",
      "source": [
        "## Submission Instructions\n",
        "\n",
        "Once you are finished with this assignment, please export this notebook to PDF. You can do this by going to `File > Export Notebook As > PDF`. If this does not work, try exporting to HTML and then printing the resulting webpage to PDF. Print out the PDF and submit a paper copy of this assignment."
      ]
    }
  ]
}